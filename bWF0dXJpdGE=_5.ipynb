{
  "metadata": {
    "language_info": {
      "codemirror_mode": {
        "name": "python",
        "version": 3
      },
      "file_extension": ".py",
      "mimetype": "text/x-python",
      "name": "python",
      "nbconvert_exporter": "python",
      "pygments_lexer": "ipython3",
      "version": "3.8"
    },
    "kernelspec": {
      "name": "python",
      "display_name": "Python (Pyodide)",
      "language": "python"
    }
  },
  "nbformat_minor": 4,
  "nbformat": 4,
  "cells": [
    {
      "cell_type": "code",
      "source": "jedla = [\n    '142 o',\n    '362 c',\n    '368 c',\n    '289 m',\n    '356 c',\n    '70 o',\n    '147 z',\n    '96 z'\n]\n\nobjednavky = {}\n\nfor jedlo in jedla:\n    objed = jedlo.split()\n    if objed[1] in objednavky:\n        objednavky[objed[1]] += 1\n    else:\n        objednavky[objed[1]] = 1\n        \n",
      "metadata": {
        "trusted": true
      },
      "execution_count": 30,
      "outputs": []
    },
    {
      "cell_type": "code",
      "source": "pocetJedal = len(jedla)",
      "metadata": {
        "trusted": true
      },
      "execution_count": 16,
      "outputs": []
    },
    {
      "cell_type": "code",
      "source": "for i in objednavky:\n    print(f'objednavka: {i}  pocet objednavok: {objednavky[i]}')",
      "metadata": {
        "trusted": true
      },
      "execution_count": 43,
      "outputs": [
        {
          "name": "stdout",
          "text": "objednavka: o  pocet objednavok: 2\nobjednavka: c  pocet objednavok: 3\nobjednavka: m  pocet objednavok: 1\nobjednavka: z  pocet objednavok: 2\n",
          "output_type": "stream"
        }
      ]
    }
  ]
}