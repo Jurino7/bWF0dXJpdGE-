{
  "metadata": {
    "language_info": {
      "codemirror_mode": {
        "name": "python",
        "version": 3
      },
      "file_extension": ".py",
      "mimetype": "text/x-python",
      "name": "python",
      "nbconvert_exporter": "python",
      "pygments_lexer": "ipython3",
      "version": "3.8"
    },
    "kernelspec": {
      "name": "python",
      "display_name": "Python (Pyodide)",
      "language": "python"
    }
  },
  "nbformat_minor": 4,
  "nbformat": 4,
  "cells": [
    {
      "cell_type": "code",
      "source": "#konzolove3\n\nzaznamy = [\n    'M01 2017.05.10 06:00 +10,3 PO',\n    'M07 2017.05.10 06:00 +08,2 JJ',\n    'M04 2017.05.10 06:00 -01,5 OO'\n    ]\n\npocetMerani = 0\nnajvyssiaT = 0\npriemernaT = 0\nmiestoNajvyssiaT = ''\n",
      "metadata": {
        "trusted": true
      },
      "execution_count": 48,
      "outputs": []
    },
    {
      "cell_type": "code",
      "source": "s = '+10,3'\nclass num():\n    def __init__(self, z, pD, zD):\n        self.z = z\n        self.pD = pD\n        self.zD = zD\n    \n    def toInt(self):\n        result = int(self.pD) + int(self.zD)*0.1\n        if self.z == '-':    #pozor texne niekedy pou6ili spojovnik –, namiesto minus - a toto treba zmenit\n            result *= -1\n            \n        return result\n\nn = num(s[0],s[1:s.index(',')],s[s.index(',')+1:]).toInt()",
      "metadata": {
        "trusted": true
      },
      "execution_count": 49,
      "outputs": []
    },
    {
      "cell_type": "code",
      "source": "for zaznam in zaznamy:\n    pocetMerani += 1\n    hodnota = zaznam.split()\n    h = hodnota[3]\n    n = num(h[0],h[1:h.index(',')],h[h.index(',')+1:]).toInt()\n    if n > najvyssiaT:\n        najvyssiaT = n\n        miestoNajvyssiaT = hodnota[0]\n    priemernaT += n\n\nprint(f'pocet merani: {pocetMerani}\\nnajvyssia T: {najvyssiaT}\\nmiesto s najvyssou T: {miestoNajvyssiaT}\\npriemerna T: {priemernaT/pocetMerani}')",
      "metadata": {
        "trusted": true
      },
      "execution_count": 50,
      "outputs": [
        {
          "name": "stdout",
          "text": "pocet merani: 3\nnajvyssia T: 10.3\nmiesto s najvyssou T: M01\npriemerna T: 5.666666666666667\n",
          "output_type": "stream"
        }
      ]
    }
  ]
}
